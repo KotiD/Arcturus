{
 "cells": [
  {
   "cell_type": "code",
   "execution_count": 13,
   "id": "44e1b0f1-34ad-4c63-89b5-377cb99596e4",
   "metadata": {},
   "outputs": [
    {
     "name": "stdout",
     "output_type": "stream",
     "text": [
      " * Serving Flask app '__main__'\n",
      " * Debug mode: on\n"
     ]
    },
    {
     "name": "stderr",
     "output_type": "stream",
     "text": [
      "WARNING: This is a development server. Do not use it in a production deployment. Use a production WSGI server instead.\n",
      " * Running on http://127.0.0.1:5000\n",
      "Press CTRL+C to quit\n",
      " * Restarting with stat\n"
     ]
    },
    {
     "ename": "SystemExit",
     "evalue": "1",
     "output_type": "error",
     "traceback": [
      "An exception has occurred, use %tb to see the full traceback.\n",
      "\u001b[1;31mSystemExit\u001b[0m\u001b[1;31m:\u001b[0m 1\n"
     ]
    },
    {
     "name": "stderr",
     "output_type": "stream",
     "text": [
      "C:\\Users\\Koti Dhanush\\.conda\\envs\\ISSDock\\Lib\\site-packages\\IPython\\core\\interactiveshell.py:3561: UserWarning: To exit: use 'exit', 'quit', or Ctrl-D.\n",
      "  warn(\"To exit: use 'exit', 'quit', or Ctrl-D.\", stacklevel=1)\n"
     ]
    }
   ],
   "source": [
    "from flask import Flask, request, jsonify\n",
    "import requests\n",
    "\n",
    "app = Flask(__name__)\n",
    "\n",
    "def get_weather_info(api_key, location):\n",
    "    base_url = \"http://api.weatherapi.com/v1/current.json\"\n",
    "    params = {\n",
    "        \"key\": api_key,\n",
    "        \"q\": location\n",
    "    }\n",
    "    response = requests.get(base_url, params=params)\n",
    "    if response.status_code == 200:\n",
    "        data = response.json()\n",
    "        weather_info = {\n",
    "            \"location\": data[\"location\"][\"name\"],\n",
    "            \"day_or_night\": \"Day\" if data[\"current\"][\"is_day\"] == 1 else \"Night\",\n",
    "            \"temperature\": data[\"current\"][\"temp_c\"],  # Temperature in Celsius\n",
    "            \"feels_like\": data[\"current\"][\"feelslike_c\"],  # Feels like temperature in Celsius\n",
    "            \"wind_speed\": data[\"current\"][\"wind_kph\"],  # Wind speed in kilometers per hour\n",
    "            \"wind_direction\": data[\"current\"][\"wind_dir\"],  # Wind direction\n",
    "            \"humidity\": data[\"current\"][\"humidity\"],  # Humidity percentage\n",
    "            \"cloud_coverage\": data[\"current\"][\"cloud\"],  # Cloud coverage percentage\n",
    "            \"uv_index\": data[\"current\"][\"uv\"],  # UV index\n",
    "            \"description\": data[\"current\"][\"condition\"][\"text\"]  # Weather description\n",
    "        }\n",
    "        return weather_info\n",
    "    else:\n",
    "        return None\n",
    "\n",
    "@app.route('/weather', methods=['POST'])\n",
    "def weather():\n",
    "    api_key = \"YOUR_API_KEY\"  # Replace 'YOUR_API_KEY' with your actual API key\n",
    "    location = request.json['station']\n",
    "    weather_info = get_weather_info(api_key, location)\n",
    "    if weather_info:\n",
    "        return jsonify(weather_info), 200\n",
    "    else:\n",
    "        return jsonify({\"error\": \"Failed to fetch weather data\"}), 500\n",
    "\n",
    "if __name__ == '__main__':\n",
    "    app.run(debug=True)\n"
   ]
  },
  {
   "cell_type": "code",
   "execution_count": null,
   "id": "b0cea0ac-c6bc-4fed-b5f0-28f8caf69062",
   "metadata": {},
   "outputs": [],
   "source": []
  }
 ],
 "metadata": {
  "kernelspec": {
   "display_name": "Python 3 (ipykernel)",
   "language": "python",
   "name": "python3"
  },
  "language_info": {
   "codemirror_mode": {
    "name": "ipython",
    "version": 3
   },
   "file_extension": ".py",
   "mimetype": "text/x-python",
   "name": "python",
   "nbconvert_exporter": "python",
   "pygments_lexer": "ipython3",
   "version": "3.11.8"
  }
 },
 "nbformat": 4,
 "nbformat_minor": 5
}
